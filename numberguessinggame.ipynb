{
  "nbformat": 4,
  "nbformat_minor": 0,
  "metadata": {
    "colab": {
      "provenance": [],
      "authorship_tag": "ABX9TyPr+7GocLfuVA1OKF3LsdKs",
      "include_colab_link": true
    },
    "kernelspec": {
      "name": "python3",
      "display_name": "Python 3"
    },
    "language_info": {
      "name": "python"
    }
  },
  "cells": [
    {
      "cell_type": "markdown",
      "metadata": {
        "id": "view-in-github",
        "colab_type": "text"
      },
      "source": [
        "<a href=\"https://colab.research.google.com/github/pravallika322/Number-guessing-game/blob/main/numberguessinggame.ipynb\" target=\"_parent\"><img src=\"https://colab.research.google.com/assets/colab-badge.svg\" alt=\"Open In Colab\"/></a>"
      ]
    },
    {
      "cell_type": "code",
      "execution_count": null,
      "metadata": {
        "colab": {
          "base_uri": "https://localhost:8080/"
        },
        "id": "PABqNwxgRzkA",
        "outputId": "b6fa11de-0f15-45c8-edc7-14a4498b2fb9"
      },
      "outputs": [
        {
          "output_type": "stream",
          "name": "stdout",
          "text": [
            "Welcome to the Number Guessing Game!\n",
            "Guess a number between 1 and 100: 40\n",
            "Your guess is too high. Try again!\n",
            "Guess a number between 1 and 100: 20\n",
            "Your guess is too high. Try again!\n",
            "Guess a number between 1 and 100: 2\n",
            "Congratulations! You've guessed the number 2 correctly in 3 attempts!\n"
          ]
        }
      ],
      "source": [
        "import random\n",
        "\n",
        "def number_guessing_game():\n",
        "    print(\"Welcome to the Number Guessing Game!\")\n",
        "\n",
        "    # Define the range of numbers\n",
        "    lower_bound = 1\n",
        "    upper_bound = 100\n",
        "\n",
        "    # Generate a random number within the range\n",
        "    secret_number = random.randint(lower_bound, upper_bound)\n",
        "\n",
        "    attempts = 0\n",
        "    max_attempts = 10  # User has a maximum of 10 attempts\n",
        "\n",
        "    while attempts < max_attempts:\n",
        "        try:\n",
        "            guess = int(input(f\"Guess a number between {lower_bound} and {upper_bound}: \"))\n",
        "            attempts += 1\n",
        "\n",
        "            if guess < lower_bound or guess > upper_bound:\n",
        "                print(f\"Please guess a number within the range {lower_bound} to {upper_bound}.\")\n",
        "                continue\n",
        "\n",
        "            if guess < secret_number:\n",
        "                print(\"Your guess is too low. Try again!\")\n",
        "            elif guess > secret_number:\n",
        "                print(\"Your guess is too high. Try again!\")\n",
        "            else:\n",
        "                print(f\"Congratulations! You've guessed the number {secret_number} correctly in {attempts} attempts!\")\n",
        "                break\n",
        "        except ValueError:\n",
        "            print(\"Invalid input! Please enter a number.\")\n",
        "\n",
        "    if attempts == max_attempts:\n",
        "        print(f\"Sorry! You've exhausted your attempts. The number was {secret_number}.\")\n",
        "\n",
        "if __name__ == \"__main__\":\n",
        "    number_guessing_game()"
      ]
    },
    {
      "cell_type": "code",
      "source": [],
      "metadata": {
        "id": "sHrjEm1MShrH"
      },
      "execution_count": null,
      "outputs": []
    }
  ]
}